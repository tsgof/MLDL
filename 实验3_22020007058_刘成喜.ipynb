{
 "cells": [
  {
   "cell_type": "markdown",
   "id": "5f8ec69a-b59c-456b-929b-9eee46654d6e",
   "metadata": {},
   "source": [
    "# 心脏病预测模型对比"
   ]
  },
  {
   "cell_type": "code",
   "execution_count": 27,
   "id": "62b2b4ba-d2bd-4e01-8c4e-8697686f035f",
   "metadata": {},
   "outputs": [],
   "source": [
    "import pandas as pd\n",
    "import numpy as np\n",
    "from sklearn.model_selection import train_test_split\n",
    "from sklearn.preprocessing import StandardScaler, OneHotEncoder\n",
    "from sklearn.compose import ColumnTransformer\n",
    "from sklearn.metrics import accuracy_score, f1_score, roc_auc_score\n",
    "from sklearn.linear_model import LogisticRegression\n",
    "from sklearn.svm import SVC\n",
    "from sklearn.ensemble import RandomForestClassifier\n",
    "from tensorflow.keras.models import Sequential\n",
    "from tensorflow.keras.layers import Dense, Dropout\n",
    "from tensorflow.keras.callbacks import EarlyStopping"
   ]
  },
  {
   "cell_type": "code",
   "execution_count": 28,
   "id": "ead6773b-8422-4c7c-87df-58e9531e80c8",
   "metadata": {},
   "outputs": [],
   "source": [
    "# 1. 加载数据（假设数据集为heart.csv）\n",
    "url = \"https://archive.ics.uci.edu/ml/machine-learning-databases/heart-disease/processed.cleveland.data\"\n",
    "df = pd.read_csv(url, header=None, na_values='?')\n",
    "columns = ['age', 'sex', 'cp', 'trestbps', 'chol', 'fbs', 'restecg', 'thalach',\n",
    "           'exang', 'oldpeak', 'slope', 'ca', 'thal', 'target']\n",
    "df.columns = columns\n",
    "df['target'] = df['target'].apply(lambda x: 1 if x > 0 else 0)  # 转换为二分类问题\n",
    "df = df.dropna()"
   ]
  },
  {
   "cell_type": "markdown",
   "id": "59e9c354-51a2-410f-ac50-198b8851fe06",
   "metadata": {},
   "source": [
    "数据预处理\r\n",
    "缺失值处理：删除包含缺失值的样本\r\n",
    "\r\n",
    "特征工程：\r\n",
    "\r\n",
    "数值特征：标准化（StandardScler）\r\n",
    "\r\n",
    "类别特征：独热编码（OneHotEncoder）"
   ]
  },
  {
   "cell_type": "code",
   "execution_count": 29,
   "id": "e9cefbb0-fce9-458b-ae7e-5e908570635e",
   "metadata": {},
   "outputs": [],
   "source": [
    "# 2. 数据预处理\n",
    "# 分类变量和数值变量\n",
    "cat_features = ['sex', 'cp', 'fbs', 'restecg', 'exang', 'slope', 'ca', 'thal']\n",
    "num_features = ['age', 'trestbps', 'chol', 'thalach', 'oldpeak']\n",
    "\n",
    "preprocessor = ColumnTransformer(\n",
    "    transformers=[\n",
    "        ('num', StandardScaler(), num_features),\n",
    "        ('cat', OneHotEncoder(), cat_features)\n",
    "    ])\n",
    "\n",
    "X = df.drop('target', axis=1)\n",
    "y = df['target']\n",
    "X_processed = preprocessor.fit_transform(X)\n",
    "\n",
    "# 划分训练集和测试集\n",
    "X_train, X_test, y_train, y_test = train_test_split(X_processed, y, test_size=0.2, stratify=y, random_state=42)"
   ]
  },
  {
   "cell_type": "raw",
   "id": "d93f0a43-4ea3-4c36-83dd-e6407e828bce",
   "metadata": {},
   "source": [
    "模型                      关键参数                                训练配置\n",
    "神经网络\t    2个隐藏层（64/32神经元），Dropout=0.3\t      Adam优化器，早停法（patience=10）\n",
    "逻辑回归\t         L2正则化，max_iter=1000\t                            -\n",
    "SVM\t                      线性核\t                                 概率输出"
   ]
  },
  {
   "cell_type": "code",
   "execution_count": 30,
   "id": "5259958c-c87e-4c29-a7f1-0f8c77390570",
   "metadata": {},
   "outputs": [
    {
     "name": "stderr",
     "output_type": "stream",
     "text": [
      "C:\\Users\\LCX\\AppData\\Roaming\\Python\\Python311\\site-packages\\keras\\src\\layers\\core\\dense.py:87: UserWarning: Do not pass an `input_shape`/`input_dim` argument to a layer. When using Sequential models, prefer using an `Input(shape)` object as the first layer in the model instead.\n",
      "  super().__init__(activity_regularizer=activity_regularizer, **kwargs)\n"
     ]
    },
    {
     "name": "stdout",
     "output_type": "stream",
     "text": [
      "\u001b[1m2/2\u001b[0m \u001b[32m━━━━━━━━━━━━━━━━━━━━\u001b[0m\u001b[37m\u001b[0m \u001b[1m0s\u001b[0m 53ms/step\n"
     ]
    }
   ],
   "source": [
    "# 3. 构建神经网络模型\n",
    "model = Sequential([\n",
    "    Dense(64, activation='relu', input_shape=(X_train.shape[1],)),\n",
    "    Dropout(0.3),\n",
    "    Dense(32, activation='relu'),\n",
    "    Dropout(0.3),\n",
    "    Dense(1, activation='sigmoid')\n",
    "])\n",
    "\n",
    "model.compile(optimizer='adam', loss='binary_crossentropy', metrics=['accuracy'])\n",
    "\n",
    "early_stop = EarlyStopping(monitor='val_loss', patience=10, restore_best_weights=True)\n",
    "history = model.fit(X_train, y_train, epochs=100, batch_size=32,\n",
    "                    validation_split=0.2, callbacks=[early_stop], verbose=0)\n",
    "\n",
    "# 神经网络评估\n",
    "y_pred_nn = (model.predict(X_test) > 0.5).astype(int)\n",
    "acc_nn = accuracy_score(y_test, y_pred_nn)\n",
    "f1_nn = f1_score(y_test, y_pred_nn)\n",
    "auc_nn = roc_auc_score(y_test, y_pred_nn)"
   ]
  },
  {
   "cell_type": "code",
   "execution_count": 31,
   "id": "2ddaa0ba-3884-4dc6-968a-e73a5c333ad6",
   "metadata": {},
   "outputs": [],
   "source": [
    "# 4. 训练传统模型\n",
    "# 逻辑回归\n",
    "lr = LogisticRegression(max_iter=1000)\n",
    "lr.fit(X_train, y_train)\n",
    "y_pred_lr = lr.predict(X_test)\n",
    "acc_lr = accuracy_score(y_test, y_pred_lr)\n",
    "f1_lr = f1_score(y_test, y_pred_lr)\n",
    "auc_lr = roc_auc_score(y_test, y_pred_lr)\n",
    "\n",
    "# SVM（使用线性核）\n",
    "svm = SVC(kernel='linear', probability=True)\n",
    "svm.fit(X_train, y_train)\n",
    "y_pred_svm = svm.predict(X_test)\n",
    "acc_svm = accuracy_score(y_test, y_pred_svm)\n",
    "f1_svm = f1_score(y_test, y_pred_svm)\n",
    "auc_svm = roc_auc_score(y_test, y_pred_svm)"
   ]
  },
  {
   "cell_type": "raw",
   "id": "228d7680-829c-4454-827a-d53c512fb129",
   "metadata": {},
   "source": [
    "性能排序: 神经网络（NN）> SVM > 逻辑回归（LR）\n",
    "\n",
    "最优模型：神经网络在 Accuracy（85%）、F1 Score（83.01%）、AUC（84.59%）三个指标上均领先\n",
    "\n",
    "神经网络能够捕捉到数据中的更高维度关系，相比于线性模型能够更好分类样本，具备学习复杂模式的能力。"
   ]
  },
  {
   "cell_type": "code",
   "execution_count": 33,
   "id": "5173dd98-5ea6-45a0-a279-a52cf8e87a66",
   "metadata": {},
   "outputs": [
    {
     "name": "stdout",
     "output_type": "stream",
     "text": [
      "                 Model  Accuracy  F1 Score       AUC\n",
      "0       Neural Network  0.850000  0.830189  0.845982\n",
      "1  Logistic Regression  0.816667  0.784314  0.810268\n",
      "2                  SVM  0.833333  0.807692  0.828125\n"
     ]
    }
   ],
   "source": [
    "# 5. 结果对比\n",
    "results = pd.DataFrame({\n",
    "    'Model': ['Neural Network', 'Logistic Regression', 'SVM'],\n",
    "    'Accuracy': [acc_nn, acc_lr, acc_svm],\n",
    "    'F1 Score': [f1_nn, f1_lr, f1_svm],\n",
    "    'AUC': [auc_nn, auc_lr, auc_svm]\n",
    "})\n",
    "\n",
    "print(results)"
   ]
  },
  {
   "cell_type": "code",
   "execution_count": null,
   "id": "247465e5-9e6d-40c3-a9fa-f8b260bcc38c",
   "metadata": {},
   "outputs": [],
   "source": []
  }
 ],
 "metadata": {
  "kernelspec": {
   "display_name": "Python 3 (ipykernel)",
   "language": "python",
   "name": "python3"
  },
  "language_info": {
   "codemirror_mode": {
    "name": "ipython",
    "version": 3
   },
   "file_extension": ".py",
   "mimetype": "text/x-python",
   "name": "python",
   "nbconvert_exporter": "python",
   "pygments_lexer": "ipython3",
   "version": "3.11.7"
  }
 },
 "nbformat": 4,
 "nbformat_minor": 5
}
