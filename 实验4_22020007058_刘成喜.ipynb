{
 "cells": [
  {
   "cell_type": "code",
   "execution_count": 8,
   "id": "aaac1565-c0eb-4c8e-9222-d3ad2a7a058b",
   "metadata": {},
   "outputs": [
    {
     "name": "stdout",
     "output_type": "stream",
     "text": [
      "Epoch 1/5\n"
     ]
    },
    {
     "name": "stderr",
     "output_type": "stream",
     "text": [
      "C:\\Users\\LCX\\AppData\\Roaming\\Python\\Python311\\site-packages\\keras\\src\\layers\\layer.py:877: UserWarning: Layer 'global_max_pooling1d' (of type GlobalMaxPooling1D) was passed an input with a mask attached to it. However, this layer does not support masking and will therefore destroy the mask information. Downstream layers will not see the mask.\n",
      "  warnings.warn(\n"
     ]
    },
    {
     "name": "stdout",
     "output_type": "stream",
     "text": [
      "\u001b[1m313/313\u001b[0m \u001b[32m━━━━━━━━━━━━━━━━━━━━\u001b[0m\u001b[37m\u001b[0m \u001b[1m151s\u001b[0m 458ms/step - accuracy: 0.6265 - loss: 0.5610 - val_accuracy: 0.8666 - val_loss: 0.3353\n",
      "Epoch 2/5\n",
      "\u001b[1m313/313\u001b[0m \u001b[32m━━━━━━━━━━━━━━━━━━━━\u001b[0m\u001b[37m\u001b[0m \u001b[1m157s\u001b[0m 501ms/step - accuracy: 0.9139 - loss: 0.2210 - val_accuracy: 0.8722 - val_loss: 0.3136\n",
      "Epoch 3/5\n",
      "\u001b[1m313/313\u001b[0m \u001b[32m━━━━━━━━━━━━━━━━━━━━\u001b[0m\u001b[37m\u001b[0m \u001b[1m151s\u001b[0m 483ms/step - accuracy: 0.9573 - loss: 0.1217 - val_accuracy: 0.8832 - val_loss: 0.3123\n",
      "Epoch 4/5\n",
      "\u001b[1m313/313\u001b[0m \u001b[32m━━━━━━━━━━━━━━━━━━━━\u001b[0m\u001b[37m\u001b[0m \u001b[1m155s\u001b[0m 496ms/step - accuracy: 0.9759 - loss: 0.0739 - val_accuracy: 0.8806 - val_loss: 0.3868\n",
      "Epoch 5/5\n",
      "\u001b[1m313/313\u001b[0m \u001b[32m━━━━━━━━━━━━━━━━━━━━\u001b[0m\u001b[37m\u001b[0m \u001b[1m151s\u001b[0m 483ms/step - accuracy: 0.9859 - loss: 0.0443 - val_accuracy: 0.8802 - val_loss: 0.4667\n",
      "\u001b[1m1/1\u001b[0m \u001b[32m━━━━━━━━━━━━━━━━━━━━\u001b[0m\u001b[37m\u001b[0m \u001b[1m1s\u001b[0m 673ms/step\n",
      "'This is the best movie I've ev...' → Positive\n",
      "\u001b[1m1/1\u001b[0m \u001b[32m━━━━━━━━━━━━━━━━━━━━\u001b[0m\u001b[37m\u001b[0m \u001b[1m0s\u001b[0m 64ms/step\n",
      "'Terrible waste of time. Worst ...' → Negative\n",
      "\u001b[1m1/1\u001b[0m \u001b[32m━━━━━━━━━━━━━━━━━━━━\u001b[0m\u001b[37m\u001b[0m \u001b[1m0s\u001b[0m 51ms/step\n",
      "'A mediocre film with some good...' → Negative\n"
     ]
    }
   ],
   "source": [
    "import tensorflow as tf\n",
    "import numpy as np\n",
    "import string\n",
    "from tensorflow.keras.datasets import imdb\n",
    "from tensorflow.keras.layers import LSTM, Bidirectional, Dropout\n",
    "\n",
    "# 超参数\n",
    "MAX_FEATURES = 20000  # 增大词汇量\n",
    "MAX_LEN = 300         # 增加序列长度\n",
    "BATCH_SIZE = 64\n",
    "EPOCHS = 5\n",
    "\n",
    "# 加载数据\n",
    "(X_train, y_train), (X_test, y_test) = imdb.load_data(num_words=MAX_FEATURES)\n",
    "\n",
    "# 数据预处理\n",
    "X_train = tf.keras.preprocessing.sequence.pad_sequences(X_train, maxlen=MAX_LEN, padding='post', truncating='post')\n",
    "X_test = tf.keras.preprocessing.sequence.pad_sequences(X_test, maxlen=MAX_LEN, padding='post', truncating='post')\n",
    "\n",
    "# 构建稳健模型\n",
    "model = tf.keras.Sequential([\n",
    "    tf.keras.layers.Embedding(MAX_FEATURES+1, 128, mask_zero=True),\n",
    "    Bidirectional(LSTM(64, return_sequences=True)),\n",
    "    tf.keras.layers.GlobalMaxPool1D(),\n",
    "    tf.keras.layers.Dense(64, activation='relu'),\n",
    "    tf.keras.layers.Dropout(0.5),\n",
    "    tf.keras.layers.Dense(1, activation='sigmoid')\n",
    "])\n",
    "\n",
    "model.compile(\n",
    "    loss='binary_crossentropy',\n",
    "    optimizer=tf.keras.optimizers.Adam(1e-3),\n",
    "    metrics=['accuracy']\n",
    ")\n",
    "\n",
    "# 训练模型\n",
    "history = model.fit(\n",
    "    X_train, y_train,\n",
    "    epochs=EPOCHS,\n",
    "    batch_size=BATCH_SIZE,\n",
    "    validation_split=0.2,\n",
    "    class_weight={0: 1.5, 1: 0.7}  # 假设负面样本更多\n",
    ")\n",
    "\n",
    "# 改进的预测预处理\n",
    "class TextPreprocessor:\n",
    "    def __init__(self, max_features):\n",
    "        self.word_index = imdb.get_word_index()\n",
    "        self.max_features = max_features\n",
    "        self.translator = str.maketrans('', '', string.punctuation)\n",
    "        \n",
    "    def preprocess(self, text):\n",
    "        # 清洗文本\n",
    "        text = text.lower().translate(self.translator)\n",
    "        words = text.split()\n",
    "        \n",
    "        # 转换为索引（含偏移修正）\n",
    "        sequence = []\n",
    "        for word in words:\n",
    "            index = self.word_index.get(word, 0) + 3  # 原始数据偏移\n",
    "            if index >= self.max_features + 3:\n",
    "                index = 2  # 未知词标记\n",
    "            sequence.append(index)\n",
    "        return sequence\n",
    "\n",
    "# 使用类封装预处理\n",
    "preprocessor = TextPreprocessor(MAX_FEATURES)\n",
    "\n",
    "def predict_sentiment(text):\n",
    "    sequence = preprocessor.preprocess(text)\n",
    "    padded = pad_sequences([sequence], maxlen=MAX_LEN, padding='post', truncating='post')\n",
    "    proba = model.predict(padded)[0][0]\n",
    "    return \"Positive\" if proba > 0.45 else \"Negative\"  # 调整阈值\n",
    "\n",
    "# 测试样例\n",
    "samples = [\n",
    "    \"This is the best movie I've ever seen! The acting was phenomenal.\",\n",
    "    \"Terrible waste of time. Worst cinematography in recent years.\",\n",
    "    \"A mediocre film with some good moments but overall forgettable.\"\n",
    "]\n",
    "\n",
    "for text in samples:\n",
    "    print(f\"'{text[:30]}...' → {predict_sentiment(text)}\")"
   ]
  },
  {
   "cell_type": "code",
   "execution_count": null,
   "id": "35208efc-8735-4ef8-8541-12bcb326d368",
   "metadata": {},
   "outputs": [],
   "source": []
  }
 ],
 "metadata": {
  "kernelspec": {
   "display_name": "Python 3 (ipykernel)",
   "language": "python",
   "name": "python3"
  },
  "language_info": {
   "codemirror_mode": {
    "name": "ipython",
    "version": 3
   },
   "file_extension": ".py",
   "mimetype": "text/x-python",
   "name": "python",
   "nbconvert_exporter": "python",
   "pygments_lexer": "ipython3",
   "version": "3.11.7"
  }
 },
 "nbformat": 4,
 "nbformat_minor": 5
}
